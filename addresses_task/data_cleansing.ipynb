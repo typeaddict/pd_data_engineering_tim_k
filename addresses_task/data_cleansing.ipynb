{
 "cells": [
  {
   "cell_type": "code",
   "execution_count": 1,
   "metadata": {},
   "outputs": [],
   "source": [
    "import pandas as pd\n",
    "import numpy as np\n",
    "import time\n",
    "from geotext import GeoText\n",
    "import collections\n",
    "import math\n",
    "import time\n",
    "import re\n"
   ]
  },
  {
   "cell_type": "code",
   "execution_count": 2,
   "metadata": {},
   "outputs": [],
   "source": [
    "### load data\n",
    "adr = pd.read_csv('data/addresses.csv')\n",
    "cnt = pd.read_csv('data/countries.csv')"
   ]
  },
  {
   "cell_type": "code",
   "execution_count": 3,
   "metadata": {},
   "outputs": [],
   "source": [
    "adr.drop_duplicates(subset=['address'],inplace=True, keep='last')"
   ]
  },
  {
   "cell_type": "code",
   "execution_count": 4,
   "metadata": {},
   "outputs": [],
   "source": [
    "def findCountryCode(istr):\n",
    "    if istr in cnts: return cnts[istr]\n",
    "    return np.NaN  \n",
    "\n",
    "def findCountry(istr):\n",
    "    istr = istr.lower()\n",
    "    istr = re.sub(r'[^a-z]+', r' ', istr).strip()\n",
    "    words = istr.split(' ')\n",
    "    for w in words:\n",
    "        if w in cnts: return w\n",
    "    return np.NaN    \n",
    "\n",
    "def findCity(istr):\n",
    "    words = istr.split(' ')\n",
    "    for w in words:\n",
    "        w = w.strip()\n",
    "        if w.islower() or w == 'University':\n",
    "            continue\n",
    "        cities = GeoText(w).cities\n",
    "        if len(cities):\n",
    "            return cities[0]\n",
    "    return np.NaN\n",
    "\n",
    "def fillGap(istr):\n",
    "    if istr is not np.NaN and istr in mixed_dict:\n",
    "        return mixed_dict[istr]\n",
    "    else: return np.NaN\n",
    "    \n",
    "def processDublicates(istr):\n",
    "    istr = istr.lower()\n",
    "    istr = re.sub(r'[^a-z]+', r' ', istr)\n",
    "    final_string = (' '.join(\"\" if i in city_country_dict else i for i in istr.split(' '))).strip()   \n",
    "    return final_string"
   ]
  },
  {
   "cell_type": "code",
   "execution_count": 5,
   "metadata": {},
   "outputs": [],
   "source": [
    "cnt.Name = cnt.Name.str.lower()\n",
    "cnt.set_index('Name', inplace=True)\n",
    "cnts = cnt['Code'].to_dict()"
   ]
  },
  {
   "cell_type": "code",
   "execution_count": 6,
   "metadata": {},
   "outputs": [],
   "source": [
    "adr['country'] = adr['address'].map(findCountry)\n",
    "adr['city'] = adr['address'].map(findCity)"
   ]
  },
  {
   "cell_type": "code",
   "execution_count": 7,
   "metadata": {},
   "outputs": [],
   "source": [
    "### filter dicts\n",
    "city_dict = adr[['city', 'country']].to_dict('index')\n",
    "mixed_dict = {}\n",
    "for i in city_dict.keys():\n",
    "    if isinstance(city_dict[i]['city'], str) and isinstance(city_dict[i]['country'], str):\n",
    "        mixed_dict[city_dict[i]['city']] = city_dict[i]['country']\n",
    "city_country_dict = set(list(mixed_dict.keys()) + list(mixed_dict.values()))"
   ]
  },
  {
   "cell_type": "code",
   "execution_count": 8,
   "metadata": {},
   "outputs": [],
   "source": [
    "adr.loc[adr['country'].isnull(), 'country'] = adr['city'].map(fillGap)"
   ]
  },
  {
   "cell_type": "code",
   "execution_count": 9,
   "metadata": {},
   "outputs": [],
   "source": [
    "### filter dublicates\n",
    "adr['tmp'] = adr.address.map(processDublicates)\n",
    "adr.drop_duplicates(subset='tmp', keep='last', inplace=True)\n",
    "adr.drop('tmp', axis=1, inplace=True)"
   ]
  },
  {
   "cell_type": "code",
   "execution_count": 10,
   "metadata": {},
   "outputs": [],
   "source": [
    "### get country code\n",
    "adr['country'] = adr['country'].map(findCountryCode)"
   ]
  },
  {
   "cell_type": "code",
   "execution_count": 13,
   "metadata": {},
   "outputs": [],
   "source": [
    "adr.to_csv('result_df.csv')"
   ]
  },
  {
   "cell_type": "code",
   "execution_count": null,
   "metadata": {},
   "outputs": [],
   "source": []
  },
  {
   "cell_type": "code",
   "execution_count": null,
   "metadata": {},
   "outputs": [],
   "source": []
  },
  {
   "cell_type": "code",
   "execution_count": null,
   "metadata": {},
   "outputs": [],
   "source": []
  }
 ],
 "metadata": {
  "kernelspec": {
   "display_name": "Python 3",
   "language": "python",
   "name": "python3"
  },
  "language_info": {
   "codemirror_mode": {
    "name": "ipython",
    "version": 3
   },
   "file_extension": ".py",
   "mimetype": "text/x-python",
   "name": "python",
   "nbconvert_exporter": "python",
   "pygments_lexer": "ipython3",
   "version": "3.6.5"
  }
 },
 "nbformat": 4,
 "nbformat_minor": 2
}
